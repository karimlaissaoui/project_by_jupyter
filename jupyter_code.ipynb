#display  output
print("jupyter uses")
